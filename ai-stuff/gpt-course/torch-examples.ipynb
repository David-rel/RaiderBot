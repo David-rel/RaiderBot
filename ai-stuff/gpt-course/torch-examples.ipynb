{
 "cells": [
  {
   "cell_type": "code",
   "execution_count": 25,
   "id": "83f1608a",
   "metadata": {},
   "outputs": [
    {
     "name": "stdout",
     "output_type": "stream",
     "text": [
      "cpu\n"
     ]
    }
   ],
   "source": [
    "import torch\n",
    "import torch.nn as nn\n",
    "from torch.nn import functional as F\n",
    "import numpy as np\n",
    "import time\n",
    "device = 'cuda' if torch.cuda.is_available() else 'cpu'\n",
    "print(device)"
   ]
  },
  {
   "cell_type": "code",
   "execution_count": 26,
   "id": "660f9fbd",
   "metadata": {},
   "outputs": [
    {
     "name": "stdout",
     "output_type": "stream",
     "text": [
      "0.00095725\n",
      "CPU times: user 1.16 ms, sys: 1.23 ms, total: 2.39 ms\n",
      "Wall time: 1.3 ms\n"
     ]
    }
   ],
   "source": [
    "%%time\n",
    "start_time = time.time()\n",
    "# matrix operations here\n",
    "zeros = torch.zeros(1, 1)\n",
    "end_time = time.time()\n",
    "\n",
    "elapsed_time = end_time - start_time\n",
    "print(f\"{elapsed_time:.8f}\")"
   ]
  },
  {
   "cell_type": "code",
   "execution_count": 27,
   "id": "7fdd8413",
   "metadata": {},
   "outputs": [
    {
     "name": "stdout",
     "output_type": "stream",
     "text": [
      "0.47534895\n",
      "0.27165604\n"
     ]
    }
   ],
   "source": [
    "torch_rand1 = torch.rand(100, 100, 100, 100).to(device)\n",
    "torch_rand2 = torch.rand(100, 100, 100, 100).to(device)\n",
    "np_rand1 = torch.rand(100, 100, 100, 100)\n",
    "np_rand2 = torch.rand(100, 100, 100, 100)\n",
    "\n",
    "start_time = time.time()\n",
    "\n",
    "rand = (torch_rand1 @ torch_rand2)\n",
    "\n",
    "end_time = time.time()\n",
    "\n",
    "elapsed_time = end_time - start_time\n",
    "print(f\"{elapsed_time:.8f}\")\n",
    "\n",
    "\n",
    "start_time = time.time()\n",
    "\n",
    "rand = np.multiply(np_rand1, np_rand2)\n",
    "end_time = time.time()\n",
    "elapsed_time = end_time - start_time\n",
    "print(f\"{elapsed_time:.8f}\")"
   ]
  },
  {
   "cell_type": "code",
   "execution_count": 28,
   "id": "d741f4a9",
   "metadata": {},
   "outputs": [
    {
     "name": "stdout",
     "output_type": "stream",
     "text": [
      "tensor([1, 1, 1, 1, 0, 1, 1, 1, 1, 1])\n"
     ]
    }
   ],
   "source": [
    "# embeddings, torch.stack, torch.multinomial, torch.tril, torch.triu, input.T / input.transpose, nn.Linear, torch.cat, F.softmax (show all the examples of functions/methods with pytorch docs)\n",
    "\n",
    "\n",
    "# Define a probability tensor\n",
    "probabilities = torch.tensor([0.1, 0.9])\n",
    "# 10% or 0.1 => 0, 90% or 0.9 => 1. each probability points to the index of the probability in the tensor\n",
    "# Draw 5 samples from the multinomial distribution\n",
    "samples = torch.multinomial(probabilities, num_samples=10, replacement=True)\n",
    "print(samples)"
   ]
  },
  {
   "cell_type": "code",
   "execution_count": 29,
   "id": "2556a276",
   "metadata": {},
   "outputs": [
    {
     "data": {
      "text/plain": [
       "tensor([1, 2, 3, 4, 5])"
      ]
     },
     "execution_count": 29,
     "metadata": {},
     "output_type": "execute_result"
    }
   ],
   "source": [
    "tensor = torch.tensor([1, 2, 3, 4])\n",
    "out = torch.cat((tensor, torch.tensor([5])), dim=0)\n",
    "out"
   ]
  },
  {
   "cell_type": "code",
   "execution_count": 30,
   "id": "06d373ff",
   "metadata": {},
   "outputs": [
    {
     "data": {
      "text/plain": [
       "tensor([[1., 0., 0., 0., 0.],\n",
       "        [1., 1., 0., 0., 0.],\n",
       "        [1., 1., 1., 0., 0.],\n",
       "        [1., 1., 1., 1., 0.],\n",
       "        [1., 1., 1., 1., 1.]])"
      ]
     },
     "execution_count": 30,
     "metadata": {},
     "output_type": "execute_result"
    }
   ],
   "source": [
    "out = torch.tril(torch.ones(5,5))\n",
    "out"
   ]
  },
  {
   "cell_type": "code",
   "execution_count": 31,
   "id": "c059d6d0",
   "metadata": {},
   "outputs": [
    {
     "data": {
      "text/plain": [
       "tensor([[1., 1., 1., 1., 1.],\n",
       "        [0., 1., 1., 1., 1.],\n",
       "        [0., 0., 1., 1., 1.],\n",
       "        [0., 0., 0., 1., 1.],\n",
       "        [0., 0., 0., 0., 1.]])"
      ]
     },
     "execution_count": 31,
     "metadata": {},
     "output_type": "execute_result"
    }
   ],
   "source": [
    "out = torch.triu(torch.ones(5,5))\n",
    "out"
   ]
  },
  {
   "cell_type": "code",
   "execution_count": 32,
   "id": "93ce2c0d",
   "metadata": {},
   "outputs": [
    {
     "data": {
      "text/plain": [
       "tensor([[0., -inf, -inf, -inf, -inf],\n",
       "        [0., 0., -inf, -inf, -inf],\n",
       "        [0., 0., 0., -inf, -inf],\n",
       "        [0., 0., 0., 0., -inf],\n",
       "        [0., 0., 0., 0., 0.]])"
      ]
     },
     "execution_count": 32,
     "metadata": {},
     "output_type": "execute_result"
    }
   ],
   "source": [
    "out = torch.zeros(5,5).masked_fill(torch.tril(torch.ones(5,5)) == 0, float('-inf'))\n",
    "out"
   ]
  },
  {
   "cell_type": "code",
   "execution_count": 33,
   "id": "e09053c5",
   "metadata": {},
   "outputs": [
    {
     "data": {
      "text/plain": [
       "tensor([[1., 0., 0., 0., 0.],\n",
       "        [1., 1., 0., 0., 0.],\n",
       "        [1., 1., 1., 0., 0.],\n",
       "        [1., 1., 1., 1., 0.],\n",
       "        [1., 1., 1., 1., 1.]])"
      ]
     },
     "execution_count": 33,
     "metadata": {},
     "output_type": "execute_result"
    }
   ],
   "source": [
    "torch.exp(out)"
   ]
  },
  {
   "cell_type": "code",
   "execution_count": 34,
   "id": "e73b43bb",
   "metadata": {},
   "outputs": [
    {
     "name": "stdout",
     "output_type": "stream",
     "text": [
      "torch.Size([3, 2, 4])\n",
      "torch.Size([2, 4, 3])\n"
     ]
    }
   ],
   "source": [
    "input = torch.zeros(2, 3, 4)\n",
    "out1 = input.transpose(0, 1)\n",
    "out2 = input.transpose(-2,-1)\n",
    "print(out1.shape)\n",
    "print(out2.shape)\n",
    "# torch.permute works the same but you provide the new order of dimensions instead of the dimensions you'd like to swap."
   ]
  },
  {
   "cell_type": "code",
   "execution_count": 35,
   "id": "275a3c04",
   "metadata": {},
   "outputs": [
    {
     "data": {
      "text/plain": [
       "tensor([[1, 2, 3],\n",
       "        [4, 5, 6],\n",
       "        [7, 8, 9]])"
      ]
     },
     "execution_count": 35,
     "metadata": {},
     "output_type": "execute_result"
    }
   ],
   "source": [
    "tensor1 = torch.tensor([1, 2, 3])\n",
    "tensor2 = torch.tensor([4, 5, 6])\n",
    "tensor3 = torch.tensor([7, 8, 9])\n",
    "\n",
    "# Stack the tensors along a new dimension\n",
    "stacked_tensor = torch.stack([tensor1, tensor2, tensor3])\n",
    "stacked_tensor"
   ]
  },
  {
   "cell_type": "code",
   "execution_count": 36,
   "id": "d83fd14b",
   "metadata": {},
   "outputs": [
    {
     "name": "stdout",
     "output_type": "stream",
     "text": [
      "tensor([  6.6747,  10.3283, -12.3507], grad_fn=<SqueezeBackward4>)\n"
     ]
    }
   ],
   "source": [
    "import torch.nn as nn\n",
    "sample = torch.tensor([10.,10.,10.])\n",
    "linear = nn.Linear(3, 3, bias=False)\n",
    "print(linear(sample))"
   ]
  },
  {
   "cell_type": "code",
   "execution_count": 37,
   "id": "0644ed7c",
   "metadata": {},
   "outputs": [
    {
     "name": "stdout",
     "output_type": "stream",
     "text": [
      "tensor([0.0900, 0.2447, 0.6652])\n"
     ]
    }
   ],
   "source": [
    "import torch.nn.functional as F\n",
    "\n",
    "# Create a tensor\n",
    "tensor1 = torch.tensor([1.0, 2.0, 3.0])\n",
    "\n",
    "# Apply softmax using torch.nn.functional.softmax()\n",
    "softmax_output = F.softmax(tensor1, dim=0)\n",
    "\n",
    "print(softmax_output)"
   ]
  },
  {
   "cell_type": "code",
   "execution_count": 38,
   "id": "146d903e",
   "metadata": {},
   "outputs": [
    {
     "name": "stdout",
     "output_type": "stream",
     "text": [
      "torch.Size([4, 6])\n",
      "tensor([[-0.1609, -0.5246,  0.4797,  1.1058,  1.0837,  0.0194],\n",
      "        [ 1.1323,  0.7568, -0.6247,  2.2854,  1.7682,  0.3391],\n",
      "        [ 0.1745,  0.7681, -0.4748, -0.3194,  0.1103, -2.1579],\n",
      "        [ 0.7409,  0.1815,  1.3117, -0.6568, -0.0890,  0.2198]],\n",
      "       grad_fn=<EmbeddingBackward0>)\n"
     ]
    }
   ],
   "source": [
    "# Initialize an embedding layer\n",
    "vocab_size = 80\n",
    "embedding_dim = 6\n",
    "embedding = nn.Embedding(vocab_size, embedding_dim)\n",
    "\n",
    "# Create some input indices\n",
    "input_indices = torch.LongTensor([1, 5, 3, 2])\n",
    "\n",
    "# Apply the embedding layer\n",
    "embedded_output = embedding(input_indices)\n",
    "\n",
    "# The output will be a tensor of shape (4, 100), where 4 is the number of inputs\n",
    "# and 100 is the dimensionality of the embedding vectors\n",
    "print(embedded_output.shape)\n",
    "print(embedded_output)"
   ]
  },
  {
   "cell_type": "code",
   "execution_count": 39,
   "id": "79f43d93",
   "metadata": {},
   "outputs": [
    {
     "name": "stdout",
     "output_type": "stream",
     "text": [
      "tensor([[ 27,  30,  33],\n",
      "        [ 61,  68,  75],\n",
      "        [ 95, 106, 117]])\n"
     ]
    }
   ],
   "source": [
    "a = torch.tensor([[1,2],[3,4],[5,6]])\n",
    "b = torch.tensor([[7,8,9],[10,11,12]])\n",
    "# print(a @ b)\n",
    "print(torch.matmul(a, b))"
   ]
  },
  {
   "cell_type": "code",
   "execution_count": 40,
   "id": "a8ab38de",
   "metadata": {},
   "outputs": [
    {
     "name": "stdout",
     "output_type": "stream",
     "text": [
      "tensor([[0., 0., 0.],\n",
      "        [0., 0., 0.],\n",
      "        [0., 0., 0.]])\n"
     ]
    }
   ],
   "source": [
    "int_64 = torch.randint(1, (3, 2)).float()\n",
    "#type int64\n",
    "float_32 = torch.rand(2,3)\n",
    "#type float32\n",
    "# print(int_64.dtype, float_32.dtype)\n",
    "result = torch.matmul(int_64, float_32)\n",
    "print(result)"
   ]
  },
  {
   "cell_type": "code",
   "execution_count": 41,
   "id": "2bd5f25d",
   "metadata": {},
   "outputs": [
    {
     "name": "stdout",
     "output_type": "stream",
     "text": [
      "torch.Size([2, 3, 5])\n",
      "torch.Size([2, 3, 5])\n"
     ]
    }
   ],
   "source": [
    "a = torch.rand(2, 3, 5)\n",
    "print(a.shape)\n",
    "x, y, z = a.shape\n",
    "a = a.view(x,y,z)\n",
    "# print(x, y, z)\n",
    "print(a.shape)"
   ]
  },
  {
   "cell_type": "code",
   "execution_count": 42,
   "id": "aea5a74c",
   "metadata": {},
   "outputs": [
    {
     "name": "stdout",
     "output_type": "stream",
     "text": [
      "tensor([[0.6063, 0.6600, 0.1498, 0.7238, 0.3511, 0.2070, 0.2012, 0.5186, 0.7945,\n",
      "         0.8477],\n",
      "        [0.6570, 0.8955, 0.1040, 0.7912, 0.3933, 0.6255, 0.3112, 0.4751, 0.7838,\n",
      "         0.4553],\n",
      "        [0.6734, 0.3384, 0.9073, 0.8675, 0.4930, 0.8400, 0.5003, 0.7773, 0.5140,\n",
      "         0.3701],\n",
      "        [0.2084, 0.0485, 0.2795, 0.2091, 0.3169, 0.2098, 0.0453, 0.6229, 0.8678,\n",
      "         0.2363],\n",
      "        [0.8121, 0.7906, 0.4201, 0.7173, 0.6706, 0.6495, 0.1746, 0.9641, 0.0484,\n",
      "         0.6928],\n",
      "        [0.9624, 0.9260, 0.3513, 0.1801, 0.9587, 0.8959, 0.9958, 0.7636, 0.6060,\n",
      "         0.3852],\n",
      "        [0.7028, 0.1347, 0.3026, 0.4966, 0.4661, 0.3902, 0.7689, 0.0489, 0.8212,\n",
      "         0.5856],\n",
      "        [0.3510, 0.8999, 0.0752, 0.1151, 0.0360, 0.9453, 0.3018, 0.5819, 0.7415,\n",
      "         0.8857],\n",
      "        [0.8756, 0.8127, 0.5221, 0.2514, 0.6466, 0.8217, 0.7677, 0.6599, 0.3683,\n",
      "         0.2770],\n",
      "        [0.3212, 0.4649, 0.3074, 0.7826, 0.1689, 0.0969, 0.8873, 0.0909, 0.1569,\n",
      "         0.9362],\n",
      "        [0.2208, 0.8383, 0.3832, 0.8639, 0.6834, 0.2977, 0.1074, 0.2034, 0.6782,\n",
      "         0.7482],\n",
      "        [0.9371, 0.1996, 0.5627, 0.0922, 0.7339, 0.0101, 0.7413, 0.6886, 0.7601,\n",
      "         0.9787],\n",
      "        [0.0180, 0.6246, 0.9405, 0.0824, 0.0918, 0.0633, 0.7524, 0.8048, 0.8929,\n",
      "         0.0824],\n",
      "        [0.8051, 0.4389, 0.2978, 0.1738, 0.0633, 0.9022, 0.7782, 0.4668, 0.9771,\n",
      "         0.3910],\n",
      "        [0.6632, 0.9044, 0.6046, 0.1204, 0.2813, 0.3627, 0.0724, 0.9313, 0.8823,\n",
      "         0.6334],\n",
      "        [0.0927, 0.8391, 0.4674, 0.5372, 0.2887, 0.9982, 0.5891, 0.5199, 0.8828,\n",
      "         0.3613],\n",
      "        [0.3456, 0.2972, 0.6418, 0.3767, 0.5623, 0.3014, 0.1566, 0.9506, 0.8604,\n",
      "         0.2025],\n",
      "        [0.9771, 0.5014, 0.6742, 0.8262, 0.2121, 0.0627, 0.6854, 0.8619, 0.6738,\n",
      "         0.6971],\n",
      "        [0.8324, 0.2274, 0.5535, 0.5149, 0.8204, 0.7241, 0.4576, 0.8937, 0.1476,\n",
      "         0.8960],\n",
      "        [0.0503, 0.0683, 0.1850, 0.5879, 0.5546, 0.6759, 0.5151, 0.5704, 0.0574,\n",
      "         0.5732],\n",
      "        [0.2476, 0.9387, 0.8870, 0.6357, 0.6689, 0.5542, 0.4711, 0.1450, 0.4706,\n",
      "         0.1922],\n",
      "        [0.7546, 0.9503, 0.2616, 0.6630, 0.5144, 0.0687, 0.0415, 0.4623, 0.8998,\n",
      "         0.0918],\n",
      "        [0.4397, 0.2494, 0.1249, 0.7843, 0.9446, 0.4222, 0.7352, 0.8701, 0.0063,\n",
      "         0.8980],\n",
      "        [0.6938, 0.6637, 0.8310, 0.2726, 0.2927, 0.5001, 0.4389, 0.3172, 0.5818,\n",
      "         0.6353],\n",
      "        [0.8426, 0.9002, 0.7746, 0.4882, 0.2402, 0.7963, 0.5307, 0.4556, 0.8496,\n",
      "         0.5965],\n",
      "        [0.9356, 0.5757, 0.4545, 0.1787, 0.0910, 0.9333, 0.8915, 0.6795, 0.8946,\n",
      "         0.0272],\n",
      "        [0.8014, 0.1918, 0.7069, 0.5043, 0.8331, 0.6555, 0.6760, 0.3278, 0.7441,\n",
      "         0.0911],\n",
      "        [0.6288, 0.4847, 0.0528, 0.3410, 0.3597, 0.0391, 0.4608, 0.2577, 0.3936,\n",
      "         0.2991],\n",
      "        [0.9167, 0.6298, 0.2290, 0.8156, 0.2124, 0.9172, 0.9523, 0.5221, 0.9478,\n",
      "         0.9878],\n",
      "        [0.0527, 0.2064, 0.2387, 0.7954, 0.4908, 0.6176, 0.6277, 0.3250, 0.2347,\n",
      "         0.3160],\n",
      "        [0.6624, 0.8733, 0.0698, 0.5321, 0.1463, 0.3089, 0.9853, 0.1494, 0.5413,\n",
      "         0.5668],\n",
      "        [0.7952, 0.3279, 0.6252, 0.5578, 0.3623, 0.1381, 0.9592, 0.4791, 0.9546,\n",
      "         0.0881]])\n"
     ]
    },
    {
     "ename": "IndexError",
     "evalue": "too many indices for tensor of dimension 2",
     "output_type": "error",
     "traceback": [
      "\u001b[0;31m---------------------------------------------------------------------------\u001b[0m",
      "\u001b[0;31mIndexError\u001b[0m                                Traceback (most recent call last)",
      "Cell \u001b[0;32mIn[42], line 6\u001b[0m\n\u001b[1;32m      4\u001b[0m \u001b[38;5;28mprint\u001b[39m(output)\n\u001b[1;32m      5\u001b[0m \u001b[38;5;66;03m# print(input)\u001b[39;00m\n\u001b[0;32m----> 6\u001b[0m \u001b[38;5;28mprint\u001b[39m(\u001b[43moutput\u001b[49m\u001b[43m[\u001b[49m\u001b[43m:\u001b[49m\u001b[43m,\u001b[49m\u001b[43m \u001b[49m\u001b[38;5;241;43m-\u001b[39;49m\u001b[38;5;241;43m1\u001b[39;49m\u001b[43m,\u001b[49m\u001b[43m \u001b[49m\u001b[43m:\u001b[49m\u001b[43m]\u001b[49m)\n",
      "\u001b[0;31mIndexError\u001b[0m: too many indices for tensor of dimension 2"
     ]
    }
   ],
   "source": [
    "input = torch.rand((4, 8, 10))\n",
    "B, T, C = input.shape\n",
    "output = input.view(B*T, C)\n",
    "print(output)\n",
    "# print(input)\n",
    "print(output[:, -1, :])"
   ]
  },
  {
   "cell_type": "code",
   "execution_count": 43,
   "id": "5d993969",
   "metadata": {},
   "outputs": [
    {
     "name": "stdout",
     "output_type": "stream",
     "text": [
      "tensor([1.])\n"
     ]
    }
   ],
   "source": [
    "x = torch.tensor([10], dtype=torch.float32)\n",
    "y = F.tanh(x)\n",
    "print(y)"
   ]
  },
  {
   "cell_type": "code",
   "execution_count": null,
   "id": "89a22cfc",
   "metadata": {},
   "outputs": [],
   "source": []
  }
 ],
 "metadata": {
  "kernelspec": {
   "display_name": "cuda-gpt",
   "language": "python",
   "name": "cuda"
  },
  "language_info": {
   "codemirror_mode": {
    "name": "ipython",
    "version": 3
   },
   "file_extension": ".py",
   "mimetype": "text/x-python",
   "name": "python",
   "nbconvert_exporter": "python",
   "pygments_lexer": "ipython3",
   "version": "3.10.9"
  }
 },
 "nbformat": 4,
 "nbformat_minor": 5
}
