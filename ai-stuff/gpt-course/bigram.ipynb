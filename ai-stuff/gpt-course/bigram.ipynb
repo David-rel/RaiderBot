{
 "cells": [
  {
   "cell_type": "code",
   "execution_count": 32,
   "id": "0cf864c8",
   "metadata": {},
   "outputs": [
    {
     "name": "stdout",
     "output_type": "stream",
     "text": [
      "cpu\n"
     ]
    }
   ],
   "source": [
    "import torch\n",
    "import torch.nn as nn\n",
    "from torch.nn import functional as F\n",
    "device = 'cuda' if torch.cuda.is_available() else 'cpu'\n",
    "print(device)\n",
    "block_size = 8\n",
    "batch_size = 4\n",
    "max_iters = 1000\n",
    "# eval_interval = 2500\n",
    "learning_rate = 3e-4\n",
    "eval_iters = 250"
   ]
  },
  {
   "cell_type": "code",
   "execution_count": 33,
   "id": "bf33d2f6",
   "metadata": {},
   "outputs": [
    {
     "name": "stdout",
     "output_type": "stream",
     "text": [
      "['\\n', ' ', '!', '\"', '&', \"'\", '(', ')', '*', ',', '-', '.', '0', '1', '2', '3', '4', '5', '6', '7', '8', '9', ':', ';', '?', 'A', 'B', 'C', 'D', 'E', 'F', 'G', 'H', 'I', 'J', 'K', 'L', 'M', 'N', 'O', 'P', 'Q', 'R', 'S', 'T', 'U', 'V', 'W', 'X', 'Y', 'Z', '[', ']', '_', 'a', 'b', 'c', 'd', 'e', 'f', 'g', 'h', 'i', 'j', 'k', 'l', 'm', 'n', 'o', 'p', 'q', 'r', 's', 't', 'u', 'v', 'w', 'x', 'y', 'z']\n"
     ]
    }
   ],
   "source": [
    "with open('wizard_of_oz.txt', 'r', encoding='utf-8') as f:\n",
    "    text = f.read()\n",
    "chars = sorted(set(text))\n",
    "print(chars)\n",
    "vocab_size = len(chars)"
   ]
  },
  {
   "cell_type": "code",
   "execution_count": 34,
   "id": "701e8733",
   "metadata": {},
   "outputs": [
    {
     "name": "stdout",
     "output_type": "stream",
     "text": [
      "tensor([ 1,  1, 28, 39, 42, 39, 44, 32, 49,  1, 25, 38, 28,  1, 44, 32, 29,  1,\n",
      "        47, 33, 50, 25, 42, 28,  1, 33, 38,  1, 39, 50,  0,  0,  1,  1, 26, 49,\n",
      "         0,  0,  1,  1, 36, 11,  1, 30, 42, 25, 38, 35,  1, 26, 25, 45, 37,  0,\n",
      "         0,  1,  1, 25, 45, 44, 32, 39, 42,  1, 39, 30,  1, 44, 32, 29,  1, 47,\n",
      "        33, 50, 25, 42, 28,  1, 39, 30,  1, 39, 50,  9,  1, 44, 32, 29,  1, 36,\n",
      "        25, 38, 28,  1, 39, 30,  1, 39, 50,  9])\n"
     ]
    }
   ],
   "source": [
    "# Your existing code...\n",
    "string_to_int = { ch:i for i,ch in enumerate(chars) }\n",
    "int_to_string = { i:ch for i,ch in enumerate(chars) }\n",
    "encode = lambda s: [string_to_int[c] for c in s]\n",
    "decode = lambda l: ''.join([int_to_string[i] for i in l])\n",
    "\n",
    "data = torch.tensor(encode(text), dtype=torch.long)\n",
    "print(data[:100])\n",
    "\n",
    "# Save tensor data to a txt file\n",
    "with open('tensor_data.txt', 'w') as file:\n",
    "    for item in data:\n",
    "        file.write(f\"{item.item()} \")\n",
    "\n",
    "# If you prefer, you can use a different delimiter by replacing the space in the write statement.\n",
    "\n"
   ]
  },
  {
   "cell_type": "code",
   "execution_count": 35,
   "id": "8b029b1e",
   "metadata": {},
   "outputs": [
    {
     "name": "stdout",
     "output_type": "stream",
     "text": [
      "when input is tensor([1])  output is  tensor(1)\n",
      "when input is tensor([1, 1])  output is  tensor(28)\n",
      "when input is tensor([ 1,  1, 28])  output is  tensor(39)\n",
      "when input is tensor([ 1,  1, 28, 39])  output is  tensor(42)\n",
      "when input is tensor([ 1,  1, 28, 39, 42])  output is  tensor(39)\n",
      "when input is tensor([ 1,  1, 28, 39, 42, 39])  output is  tensor(44)\n",
      "when input is tensor([ 1,  1, 28, 39, 42, 39, 44])  output is  tensor(32)\n",
      "when input is tensor([ 1,  1, 28, 39, 42, 39, 44, 32])  output is  tensor(49)\n"
     ]
    }
   ],
   "source": [
    "\n",
    "x = train_data[:block_size]\n",
    "y = train_data[1:block_size+1]\n",
    "\n",
    "for t in range(block_size):\n",
    "    context = x[:t+1]\n",
    "    target = y[t]\n",
    "    print('when input is', context, ' output is ', target)"
   ]
  },
  {
   "cell_type": "code",
   "execution_count": 36,
   "id": "4dfbb5bc",
   "metadata": {},
   "outputs": [
    {
     "name": "stdout",
     "output_type": "stream",
     "text": [
      "inputs:\n",
      "tensor([[76, 62, 65, 65,  1, 67, 58, 75],\n",
      "        [ 1, 73, 71, 74, 65, 78,  9,  1],\n",
      "        [73, 61, 54, 73,  1, 73, 61, 58],\n",
      "        [43, 68, 66, 58,  1, 68, 59,  1]])\n",
      "targets:\n",
      "tensor([[62, 65, 65,  1, 67, 58, 75, 58],\n",
      "        [73, 71, 74, 65, 78,  9,  1, 78],\n",
      "        [61, 54, 73,  1, 73, 61, 58,  1],\n",
      "        [68, 66, 58,  1, 68, 59,  1, 73]])\n"
     ]
    }
   ],
   "source": [
    "n = int(0.8*len(data))\n",
    "train_data = data[:n]\n",
    "val_data = data[n:]\n",
    "\n",
    "\n",
    "def get_batch(split):\n",
    "    data = train_data if split == 'train' else val_data\n",
    "    ix = torch.randint(len(data) - block_size, (batch_size,))\n",
    "#     print(ix)\n",
    "    x = torch.stack([data[i:i+block_size] for i in ix])\n",
    "    y = torch.stack([data[i+1:i+block_size+1] for i in ix])\n",
    "    x, y = x.to(device), y.to(device)\n",
    "    return x,y\n",
    "\n",
    "\n",
    "\n",
    "x, y = get_batch('train')\n",
    "print('inputs:')\n",
    "print(x)\n",
    "print('targets:')\n",
    "print(y)\n",
    "\n"
   ]
  },
  {
   "cell_type": "code",
   "execution_count": 37,
   "id": "893c46d7",
   "metadata": {},
   "outputs": [],
   "source": [
    "@torch.no_grad()\n",
    "def estimate_loss():\n",
    "    out = {}\n",
    "    model.eval()\n",
    "    for split in ['train', 'val']:\n",
    "        losses = torch.zeros(eval_iters)\n",
    "        for k in range(eval_iters):\n",
    "            X, Y = get_batch(split)\n",
    "            logits, loss = model(X, Y)\n",
    "            losses[k] = loss.item()\n",
    "        out[split] = losses.mean()\n",
    "    model.train()\n",
    "    return out"
   ]
  },
  {
   "cell_type": "code",
   "execution_count": 44,
   "id": "62d65081",
   "metadata": {},
   "outputs": [
    {
     "name": "stdout",
     "output_type": "stream",
     "text": [
      "\n",
      "IMc&Z,[K2D?\n",
      "hPJX[ylWy(ptr y(bMq5\"M!zG'ya2UJ-nd,[l;*VtcnV\n",
      "x\n",
      "Z[F]I.w7NmW6ptwNRf\"(e]O2sk(pOR)4,?av D?e6-pm&YYRprM!\"NQ*UZ4vOcoojXSH'C[SmtRo!*k934*dn\"(,bz-NH-J5i'j17o1\"kh-Y:FD9Jae;3?W0WlCJh6k(rFk'w;QA-eI?ndT8Mx:3Z,CPM!-gJUUSl2T a[Bor5HscF]f\"kh27x6hB& Vlo--1p-FM!m;_4o*RxHYAtkw4WIdUegPUJdnwk:9'jP2_OY9z-DW*Ocr3-\n",
      "fds8;]O)\"XY\n",
      "jKY\n",
      "UJ?J538hZqU'Tmyx:[,.[wqZ:D5Pn)cu(p86ICaen\"pUK5)4S7P'C0jYcGD5SO248L0;4GcT7;:kz.0HVee0W]Y'B]kF_.pWcz8jBh6WIC:X?:ePVij1] [JWRIs[qYf[VGw4c\"MEg&4v-M!Pn6u9PjWn:h*N9K53KyDI&7QYyoZR&;zq?\n"
     ]
    }
   ],
   "source": [
    "class BigramLanguageModel(nn.Module):\n",
    "    def __init__(self, vocab_size):\n",
    "        super().__init__()\n",
    "        self.token_embedding_table = nn.Embedding(vocab_size, vocab_size)\n",
    "        \n",
    "    def forward(self, index, targets=None):\n",
    "        logits = self.token_embedding_table(index)\n",
    "        \n",
    "        if targets is None:\n",
    "            loss = None\n",
    "        else:\n",
    "            B, T, C = logits.shape\n",
    "            logits = logits.view(B*T, C)\n",
    "            targets = targets.view(B*T)\n",
    "            loss = F.cross_entropy(logits, targets)\n",
    "\n",
    "        \n",
    "        return logits, loss\n",
    "    \n",
    "    def generate(self, index, max_new_tokens):\n",
    "        for _ in range(max_new_tokens):\n",
    "            logits, loss = self.forward(index)\n",
    "            logits = logits[:, -1, :]\n",
    "            probs = F.softmax(logits, dim=-1)\n",
    "            index_next = torch.multinomial(probs, num_samples=1)\n",
    "            index = torch.cat((index, index_next), dim=1)\n",
    "            \n",
    "        return index\n",
    "    \n",
    "model = BigramLanguageModel(vocab_size)\n",
    "m = model.to(device)\n",
    "\n",
    "context = torch.zeros((1,1), dtype=torch.long, device=device)\n",
    "generated_chars = decode(m.generate(context, max_new_tokens=500)[0].tolist())\n",
    "print(generated_chars)\n"
   ]
  },
  {
   "cell_type": "code",
   "execution_count": 49,
   "id": "620a0dfd",
   "metadata": {},
   "outputs": [
    {
     "name": "stdout",
     "output_type": "stream",
     "text": [
      "step: 0, train loss: 4.333, val loss: 4.343\n",
      "step: 250, train loss: 4.274, val loss: 4.271\n",
      "step: 500, train loss: 4.230, val loss: 4.234\n",
      "step: 750, train loss: 4.169, val loss: 4.168\n",
      "3.947763681411743\n"
     ]
    }
   ],
   "source": [
    "# create a PyTorch optimizer\n",
    "optimizer = torch.optim.AdamW(model.parameters(), lr=learning_rate)\n",
    "\n",
    "for iter in range(max_iters):\n",
    "    if iter % eval_iters == 0:\n",
    "        losses = estimate_loss()\n",
    "        print(f\"step: {iter}, train loss: {losses['train']:.3f}, val loss: {losses['val']:.3f}\")\n",
    "\n",
    "    # sample a batch of data\n",
    "    xb, yb = get_batch('train')\n",
    "\n",
    "    # evaluate the loss\n",
    "    logits, loss = model.forward(xb, yb)\n",
    "    optimizer.zero_grad(set_to_none=True)\n",
    "    loss.backward()\n",
    "    optimizer.step()\n",
    "print(loss.item())"
   ]
  },
  {
   "cell_type": "code",
   "execution_count": 50,
   "id": "255dab0d",
   "metadata": {},
   "outputs": [
    {
     "name": "stdout",
     "output_type": "stream",
     "text": [
      "\n",
      "3FB6lso.DYF FAxu,6Ko6u:poiL3 Nbpl)63P',SLJP3FA)z1JVwbU gK15\"wcDswK5ME6PC[JyfeXL06dXuR![pwV.3pt\n",
      "O]ndn\"872;tRyvBhPdlGHGJHa;4y\n",
      ";Sa_DrE1upX[M6k0jFg493E!LM!vn:.y;icCCNaKEoJZSQX8;x\"9zQ:t[O8QAfndnMquO:ufGDHr'rrooy.aGHEha2gK3GL.CxXwqA\n",
      "WeO-DI\n",
      "3FD\".OQCz?n;s;'U_u(uiSk-\n",
      "ds_u!;UDsdnDoB(p&r__Na*kV LAd emmGDpg8ai3FH')2&4D5hTw*,A_Kx,Fx:1dn?WI\n",
      "_wM8LP4yom\"u0jM!]Q1uCuRLV.oRx1vMn\"4,X?u3abO5jtnnjyD5PuXJHXmuZRljm\n",
      "W[C46b\"(Z] y.v_Oebznwx]27202 c'RA_D,dT.,1eT\n",
      "W\n",
      "0hPswmm7V-\n",
      "?NR,z.o;KTI&kegJUzTHn Ven;jQ*,'rZtIp5iSiXRD?[)\"w\n"
     ]
    }
   ],
   "source": [
    "context = torch.zeros((1,1), dtype=torch.long, device=device)\n",
    "generated_chars = decode(m.generate(context, max_new_tokens=500)[0].tolist())\n",
    "print(generated_chars)"
   ]
  },
  {
   "cell_type": "code",
   "execution_count": null,
   "id": "65623df0",
   "metadata": {},
   "outputs": [],
   "source": []
  }
 ],
 "metadata": {
  "kernelspec": {
   "display_name": "cuda-gpt",
   "language": "python",
   "name": "cuda"
  },
  "language_info": {
   "codemirror_mode": {
    "name": "ipython",
    "version": 3
   },
   "file_extension": ".py",
   "mimetype": "text/x-python",
   "name": "python",
   "nbconvert_exporter": "python",
   "pygments_lexer": "ipython3",
   "version": "3.10.9"
  }
 },
 "nbformat": 4,
 "nbformat_minor": 5
}
